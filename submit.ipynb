{
 "cells": [
  {
   "cell_type": "code",
   "execution_count": 1,
   "id": "5fc25c0e",
   "metadata": {
    "execution": {
     "iopub.execute_input": "2022-09-20T04:12:45.788018Z",
     "iopub.status.busy": "2022-09-20T04:12:45.787246Z",
     "iopub.status.idle": "2022-09-20T04:15:18.124205Z",
     "shell.execute_reply": "2022-09-20T04:15:18.122969Z"
    },
    "papermill": {
     "duration": 152.346721,
     "end_time": "2022-09-20T04:15:18.127004",
     "exception": false,
     "start_time": "2022-09-20T04:12:45.780283",
     "status": "completed"
    },
    "tags": []
   },
   "outputs": [
    {
     "name": "stdout",
     "output_type": "stream",
     "text": [
      "\u001b[33mWARNING: Running pip as the 'root' user can result in broken permissions and conflicting behaviour with the system package manager. It is recommended to use a virtual environment instead: https://pip.pypa.io/warnings/venv\u001b[0m\u001b[33m\r\n",
      "\u001b[0m\u001b[33mWARNING: There was an error checking the latest version of pip.\u001b[0m\u001b[33m\r\n",
      "\u001b[0m\u001b[33mWARNING: Running pip as the 'root' user can result in broken permissions and conflicting behaviour with the system package manager. It is recommended to use a virtual environment instead: https://pip.pypa.io/warnings/venv\u001b[0m\u001b[33m\r\n",
      "\u001b[0m\u001b[33mWARNING: There was an error checking the latest version of pip.\u001b[0m\u001b[33m\r\n",
      "\u001b[0m\u001b[33mWARNING: Running pip as the 'root' user can result in broken permissions and conflicting behaviour with the system package manager. It is recommended to use a virtual environment instead: https://pip.pypa.io/warnings/venv\u001b[0m\u001b[33m\r\n",
      "\u001b[0m\u001b[33mWARNING: There was an error checking the latest version of pip.\u001b[0m\u001b[33m\r\n",
      "\u001b[0m\u001b[33mWARNING: Running pip as the 'root' user can result in broken permissions and conflicting behaviour with the system package manager. It is recommended to use a virtual environment instead: https://pip.pypa.io/warnings/venv\u001b[0m\u001b[33m\r\n",
      "\u001b[0m\u001b[33mWARNING: There was an error checking the latest version of pip.\u001b[0m\u001b[33m\r\n",
      "\u001b[0m\u001b[33mWARNING: Running pip as the 'root' user can result in broken permissions and conflicting behaviour with the system package manager. It is recommended to use a virtual environment instead: https://pip.pypa.io/warnings/venv\u001b[0m\u001b[33m\r\n",
      "\u001b[0m\u001b[33mWARNING: There was an error checking the latest version of pip.\u001b[0m\u001b[33m\r\n",
      "\u001b[0m"
     ]
    }
   ],
   "source": [
    "!pip install -q ../input/monai/monai-0.9.1-202207251608-py3-none-any.whl\n",
    "\n",
    "!pip install -q ../input/lib-pretrainedmodels/pretrainedmodels-0.7.4-py3-none-any.whl\n",
    "!pip install -q ../input/tim-0412/timm-0.4.12-py3-none-any.whl\n",
    "!pip install -q ../input/lib-efficientnet-pytorch/efficientnet_pytorch-0.7.1-py3-none-any.whl\n",
    "!pip install -q ../input/segmentation-models-pytorch/segmentation_models_pytorch-0.3.0-py3-none-any.whl\n"
   ]
  },
  {
   "cell_type": "code",
   "execution_count": 2,
   "id": "29838ba1",
   "metadata": {
    "_cell_guid": "b1076dfc-b9ad-4769-8c92-a6c4dae69d19",
    "_uuid": "8f2839f25d086af736a60e9eeb907d3b93b6e0e5",
    "execution": {
     "iopub.execute_input": "2022-09-20T04:15:18.140215Z",
     "iopub.status.busy": "2022-09-20T04:15:18.138635Z",
     "iopub.status.idle": "2022-09-20T04:15:27.397485Z",
     "shell.execute_reply": "2022-09-20T04:15:27.395395Z"
    },
    "papermill": {
     "duration": 9.267111,
     "end_time": "2022-09-20T04:15:27.399556",
     "exception": false,
     "start_time": "2022-09-20T04:15:18.132445",
     "status": "completed"
    },
    "tags": []
   },
   "outputs": [
    {
     "name": "stdout",
     "output_type": "stream",
     "text": [
      "done\n"
     ]
    }
   ],
   "source": [
    "import torch\n",
    "from torch import nn\n",
    "import torch.nn.functional as F\n",
    "\n",
    "from torch.utils.data import DataLoader, random_split\n",
    "\n",
    "import segmentation_models_pytorch as smp\n",
    "# import torchsummary\n",
    "\n",
    "import pandas as pd\n",
    "import numpy as np\n",
    "import random, shutil, time, os\n",
    "\n",
    "import sklearn\n",
    "import cv2\n",
    "import matplotlib.pyplot as plt\n",
    "\n",
    "import albumentations as A\n",
    "import gc\n",
    "\n",
    "import monai\n",
    "# import tifffile as tiff\n",
    "\n",
    "from torch.cuda import amp\n",
    "\n",
    "import rasterio\n",
    "from rasterio.windows import Window\n",
    "\n",
    "import warnings\n",
    "warnings.filterwarnings('ignore')\n",
    "\n",
    "print('done')"
   ]
  },
  {
   "cell_type": "code",
   "execution_count": 3,
   "id": "b63ce82c",
   "metadata": {
    "execution": {
     "iopub.execute_input": "2022-09-20T04:15:27.411699Z",
     "iopub.status.busy": "2022-09-20T04:15:27.411125Z",
     "iopub.status.idle": "2022-09-20T04:15:27.479701Z",
     "shell.execute_reply": "2022-09-20T04:15:27.478542Z"
    },
    "papermill": {
     "duration": 0.077033,
     "end_time": "2022-09-20T04:15:27.481784",
     "exception": false,
     "start_time": "2022-09-20T04:15:27.404751",
     "status": "completed"
    },
    "tags": []
   },
   "outputs": [],
   "source": [
    "CFG = {\n",
    "    'lr':3e-4,\n",
    "    'shape':(512, 512),\n",
    "\n",
    "}\n",
    "TRAIN = True\n",
    "\n",
    "device = torch.device(\"cuda:0\" if torch.cuda.is_available() else \"cpu\")"
   ]
  },
  {
   "cell_type": "code",
   "execution_count": 4,
   "id": "d703c885",
   "metadata": {
    "execution": {
     "iopub.execute_input": "2022-09-20T04:15:27.493833Z",
     "iopub.status.busy": "2022-09-20T04:15:27.493028Z",
     "iopub.status.idle": "2022-09-20T04:15:27.498865Z",
     "shell.execute_reply": "2022-09-20T04:15:27.497764Z"
    },
    "papermill": {
     "duration": 0.013716,
     "end_time": "2022-09-20T04:15:27.501012",
     "exception": false,
     "start_time": "2022-09-20T04:15:27.487296",
     "status": "completed"
    },
    "tags": []
   },
   "outputs": [],
   "source": [
    "def seed_everything(seed=44):\n",
    "    random.seed(seed)\n",
    "    np.random.seed(seed)\n",
    "    torch.manual_seed(seed)\n",
    "    torch.cuda.manual_seed_all(seed)\n",
    "    \n",
    "def clear_cache():\n",
    "    torch.cuda.empty_cache()\n",
    "    gc.collect()"
   ]
  },
  {
   "cell_type": "code",
   "execution_count": 5,
   "id": "6590c91b",
   "metadata": {
    "execution": {
     "iopub.execute_input": "2022-09-20T04:15:27.512022Z",
     "iopub.status.busy": "2022-09-20T04:15:27.511720Z",
     "iopub.status.idle": "2022-09-20T04:15:27.554713Z",
     "shell.execute_reply": "2022-09-20T04:15:27.553629Z"
    },
    "papermill": {
     "duration": 0.05109,
     "end_time": "2022-09-20T04:15:27.557039",
     "exception": false,
     "start_time": "2022-09-20T04:15:27.505949",
     "status": "completed"
    },
    "tags": []
   },
   "outputs": [
    {
     "data": {
      "text/html": [
       "<div>\n",
       "<style scoped>\n",
       "    .dataframe tbody tr th:only-of-type {\n",
       "        vertical-align: middle;\n",
       "    }\n",
       "\n",
       "    .dataframe tbody tr th {\n",
       "        vertical-align: top;\n",
       "    }\n",
       "\n",
       "    .dataframe thead th {\n",
       "        text-align: right;\n",
       "    }\n",
       "</style>\n",
       "<table border=\"1\" class=\"dataframe\">\n",
       "  <thead>\n",
       "    <tr style=\"text-align: right;\">\n",
       "      <th></th>\n",
       "      <th>id</th>\n",
       "      <th>organ</th>\n",
       "      <th>data_source</th>\n",
       "      <th>img_height</th>\n",
       "      <th>img_width</th>\n",
       "      <th>pixel_size</th>\n",
       "      <th>tissue_thickness</th>\n",
       "      <th>path</th>\n",
       "      <th>classes</th>\n",
       "    </tr>\n",
       "  </thead>\n",
       "  <tbody>\n",
       "    <tr>\n",
       "      <th>0</th>\n",
       "      <td>10078</td>\n",
       "      <td>spleen</td>\n",
       "      <td>Hubmap</td>\n",
       "      <td>2023</td>\n",
       "      <td>2023</td>\n",
       "      <td>0.4945</td>\n",
       "      <td>4</td>\n",
       "      <td>../input/hubmap-organ-segmentation/test_images...</td>\n",
       "      <td>1</td>\n",
       "    </tr>\n",
       "  </tbody>\n",
       "</table>\n",
       "</div>"
      ],
      "text/plain": [
       "      id   organ data_source  img_height  img_width  pixel_size  \\\n",
       "0  10078  spleen      Hubmap        2023       2023      0.4945   \n",
       "\n",
       "   tissue_thickness                                               path  \\\n",
       "0                 4  ../input/hubmap-organ-segmentation/test_images...   \n",
       "\n",
       "   classes  \n",
       "0        1  "
      ]
     },
     "execution_count": 5,
     "metadata": {},
     "output_type": "execute_result"
    }
   ],
   "source": [
    "BASE_DIR = '../input/hubmap-organ-segmentation'\n",
    "\n",
    "mode = 'test'\n",
    "\n",
    "\n",
    "DATA_DIR = os.path.join(BASE_DIR, f'{mode}_images')\n",
    "            \n",
    "df = pd.read_csv(os.path.join(BASE_DIR, f'{mode}.csv'))\n",
    "df['path'] = df['id'].apply(lambda fname : os.path.join(DATA_DIR, str(fname) + '.tiff'))\n",
    "organ_to_class = {\n",
    "    'prostate':0,\n",
    "    'spleen':1,\n",
    "    'lung':2,\n",
    "    'kidney':3,\n",
    "    'largeintestine':4\n",
    "}\n",
    "df['classes'] = df['organ'].apply(lambda organ : organ_to_class[organ])\n",
    "df.head(5)"
   ]
  },
  {
   "cell_type": "code",
   "execution_count": 6,
   "id": "f4f9813c",
   "metadata": {
    "execution": {
     "iopub.execute_input": "2022-09-20T04:15:27.568759Z",
     "iopub.status.busy": "2022-09-20T04:15:27.568458Z",
     "iopub.status.idle": "2022-09-20T04:15:27.580252Z",
     "shell.execute_reply": "2022-09-20T04:15:27.579418Z"
    },
    "papermill": {
     "duration": 0.019741,
     "end_time": "2022-09-20T04:15:27.582353",
     "exception": false,
     "start_time": "2022-09-20T04:15:27.562612",
     "status": "completed"
    },
    "tags": []
   },
   "outputs": [],
   "source": [
    "# https://www.kaggle.com/paulorzp/rle-functions-run-length-encode-decode\n",
    "def rle_encode(img):\n",
    "    '''\n",
    "    img: numpy array, 1 - mask, 0 - background\n",
    "    Returns run length as string formated\n",
    "    '''\n",
    "    pixels = img.T.flatten()\n",
    "    pixels = np.concatenate([[0], pixels, [0]])\n",
    "    runs = np.where(pixels[1:] != pixels[:-1])[0] + 1\n",
    "    runs[1::2] -= runs[::2]\n",
    "    return ' '.join(str(x) for x in runs)\n",
    "\n",
    "\n",
    "def img_read(path):\n",
    "    img = tiff.imread(path)\n",
    "    return img\n",
    "\n",
    "\n",
    "class Dataset2D(torch.utils.data.Dataset):\n",
    "    def __init__(self, df_sub, train=True):\n",
    "        self.train = train\n",
    "        \n",
    "        self.paths = np.array(df_sub['path'])\n",
    "        self.wid = np.array(df_sub['img_width'])\n",
    "        self.hei = np.array(df_sub['img_height'])\n",
    "        \n",
    "        \n",
    "    def __len__(self):\n",
    "        return len(self.paths)\n",
    "    \n",
    "    def transform(self, img):\n",
    "        trans = A.Compose([\n",
    "            A.RandomScale(scale_limit=(0.1, 0.1), p=1),\n",
    "            A.CenterCrop(CFG['shape'][0], CFG['shape'][1], always_apply=True, p=1.0)\n",
    "        ])\n",
    "        return trans(image=img)\n",
    "    \n",
    "    def data_prep_aug(self, img):\n",
    "        shape = CFG['shape']\n",
    "        img = (cv2.resize(img, shape, interpolation=cv2.INTER_AREA) / img.max()).astype('float32')\n",
    "        \n",
    "#         trans = self.transform(img)\n",
    "#         img = trans['image']\n",
    "        \n",
    "        img = img.transpose(2,0,1)\n",
    "\n",
    "        return torch.tensor(img, dtype=torch.float16, device=device)\n",
    "    \n",
    "    def __getitem__(self, idx):\n",
    "        shape = CFG['shape']\n",
    "        img = img_read(self.paths[idx])\n",
    "\n",
    "        # data preprocessing and augmentation\n",
    "        img = self.data_prep_aug(img)\n",
    "        \n",
    "        return img"
   ]
  },
  {
   "cell_type": "code",
   "execution_count": 7,
   "id": "97b96886",
   "metadata": {
    "execution": {
     "iopub.execute_input": "2022-09-20T04:15:27.593347Z",
     "iopub.status.busy": "2022-09-20T04:15:27.593089Z",
     "iopub.status.idle": "2022-09-20T04:15:27.603049Z",
     "shell.execute_reply": "2022-09-20T04:15:27.602242Z"
    },
    "papermill": {
     "duration": 0.017887,
     "end_time": "2022-09-20T04:15:27.605156",
     "exception": false,
     "start_time": "2022-09-20T04:15:27.587269",
     "status": "completed"
    },
    "tags": []
   },
   "outputs": [],
   "source": [
    "MASKS = f'../input/hubmap-organ-segmentation/{mode}.csv'\n",
    "\n",
    "# functions to convert encoding to mask and mask to encoding\n",
    "def enc2mask(encs, shape):\n",
    "    img = np.zeros(shape[0]*shape[1], dtype=np.uint8)\n",
    "    for m,enc in enumerate(encs):\n",
    "        if isinstance(enc,np.float) and np.isnan(enc): continue\n",
    "        s = enc.split()\n",
    "        for i in range(len(s)//2):\n",
    "            start = int(s[2*i]) - 1\n",
    "            length = int(s[2*i+1])\n",
    "            img[start:start+length] = 1 + m\n",
    "    return img.reshape(shape).T\n",
    "\n",
    "def mask2enc(mask, n=1):\n",
    "    pixels = mask.T.flatten()\n",
    "    encs = []\n",
    "    for i in range(1,n+1):\n",
    "        p = (pixels == i).astype(np.int8)\n",
    "        if p.sum() == 0: encs.append(np.nan)\n",
    "        else:\n",
    "            p = np.concatenate([[0], p, [0]])\n",
    "            runs = np.where(p[1:] != p[:-1])[0] + 1\n",
    "            runs[1::2] -= runs[::2]\n",
    "            encs.append(' '.join(str(x) for x in runs))\n",
    "    return encs\n",
    "\n",
    "# df_masks = pd.read_csv(MASKS)[['id', 'rle']].set_index('id')\n",
    "# df_masks.head()"
   ]
  },
  {
   "cell_type": "code",
   "execution_count": 8,
   "id": "fe4bc4c0",
   "metadata": {
    "execution": {
     "iopub.execute_input": "2022-09-20T04:15:27.616079Z",
     "iopub.status.busy": "2022-09-20T04:15:27.615821Z",
     "iopub.status.idle": "2022-09-20T04:15:27.633369Z",
     "shell.execute_reply": "2022-09-20T04:15:27.632532Z"
    },
    "papermill": {
     "duration": 0.0253,
     "end_time": "2022-09-20T04:15:27.635387",
     "exception": false,
     "start_time": "2022-09-20T04:15:27.610087",
     "status": "completed"
    },
    "tags": []
   },
   "outputs": [],
   "source": [
    "sz = 512   # the size of tiles\n",
    "reduce = 2 # reduce the original images by X times \n",
    "\n",
    "s_th = 40  # saturation blancking threshold\n",
    "p_th = 1000*(sz // 256) ** 2 # threshold for the minimum number of pixels\n",
    "\n",
    "mean = np.array([0.77455656, 0.74896831, 0.76683053])\n",
    "std = np.array([0.25168728, 0.2655022, 0.26106301])\n",
    "\n",
    "DATA = DATA_DIR\n",
    "\n",
    "class HuBMAPDataset(torch.utils.data.Dataset):\n",
    "    def __init__(self, idx, sz=sz, reduce=reduce, encs=None):\n",
    "        self.data = rasterio.open(os.path.join(DATA,str(idx)+'.tiff'),num_threads='all_cpus')\n",
    "\n",
    "        if self.data.count != 3:\n",
    "            subdatasets = self.data.subdatasets\n",
    "            self.layers = []\n",
    "            if len(subdatasets) > 0:\n",
    "                for i, subdataset in enumerate(subdatasets, 0):\n",
    "                    self.layers.append(rasterio.open(subdataset))\n",
    "                    \n",
    "        self.shape = self.data.shape\n",
    "        self.reduce = reduce\n",
    "        self.sz = reduce*sz\n",
    "        self.pad0 = (self.sz - self.shape[0]%self.sz)%self.sz\n",
    "        self.pad1 = (self.sz - self.shape[1]%self.sz)%self.sz\n",
    "        self.n0max = (self.shape[0] + self.pad0)//self.sz\n",
    "        self.n1max = (self.shape[1] + self.pad1)//self.sz\n",
    "        self.mask = enc2mask(encs,(self.shape[1],self.shape[0])) if encs is not None else None\n",
    "        \n",
    "    def __len__(self):\n",
    "        return self.n0max*self.n1max\n",
    "    \n",
    "    def __getitem__(self, idx):\n",
    "        n0,n1 = idx//self.n1max, idx%self.n1max\n",
    "\n",
    "        x0,y0 = -self.pad0//2 + n0*self.sz, -self.pad1//2 + n1*self.sz\n",
    "\n",
    "        # make sure that the region to read is within the image\n",
    "        p00,p01 = max(0,x0), min(x0 + self.sz,self.shape[0])\n",
    "        p10,p11 = max(0,y0), min(y0 + self.sz,self.shape[1])\n",
    "\n",
    "        img = np.zeros((self.sz,self.sz,3),np.uint8)\n",
    "        \n",
    "        # mapping the loade region to the tile\n",
    "        if self.data.count == 3:\n",
    "            img[(p00-x0):(p01-x0),(p10-y0):(p11-y0)] = np.moveaxis(self.data.read([1,2,3],\n",
    "                window=Window.from_slices((p00,p01),(p10,p11))), 0, -1)\n",
    "        else:\n",
    "            for i,layer in enumerate(self.layers):\n",
    "                img[(p00-x0):(p01-x0),(p10-y0):(p11-y0),i] =\\\n",
    "                  layer.read(1,window=Window.from_slices((p00,p01),(p10,p11)))\n",
    "        \n",
    "        if self.reduce != 1:\n",
    "            img = cv2.resize(img,(self.sz//reduce,self.sz//reduce),\n",
    "                             interpolation = cv2.INTER_AREA)\n",
    "\n",
    "        m = 1\n",
    "        if img.max() == 0:\n",
    "            m = 1\n",
    "        else:\n",
    "            m = img.max()\n",
    "        img = (img/m - mean) / std\n",
    "        img = torch.tensor([img.transpose(2,0,1)], dtype=torch.float, device=device)\n",
    "    \n",
    "        #return -1 for empty images\n",
    "        return img"
   ]
  },
  {
   "cell_type": "code",
   "execution_count": 9,
   "id": "c311eaf6",
   "metadata": {
    "execution": {
     "iopub.execute_input": "2022-09-20T04:15:27.647477Z",
     "iopub.status.busy": "2022-09-20T04:15:27.647225Z",
     "iopub.status.idle": "2022-09-20T04:15:27.651706Z",
     "shell.execute_reply": "2022-09-20T04:15:27.650463Z"
    },
    "papermill": {
     "duration": 0.012487,
     "end_time": "2022-09-20T04:15:27.654106",
     "exception": false,
     "start_time": "2022-09-20T04:15:27.641619",
     "status": "completed"
    },
    "tags": []
   },
   "outputs": [],
   "source": [
    "# for index in df['id']:\n",
    "#     ds = HuBMAPDataset(index)\n",
    "#     for i, a in enumerate(ds):\n",
    "#         print(a[2])\n",
    "#         if i == len(ds) - 1:\n",
    "#             break"
   ]
  },
  {
   "cell_type": "code",
   "execution_count": 10,
   "id": "1a82589e",
   "metadata": {
    "execution": {
     "iopub.execute_input": "2022-09-20T04:15:27.665180Z",
     "iopub.status.busy": "2022-09-20T04:15:27.664341Z",
     "iopub.status.idle": "2022-09-20T04:15:27.668942Z",
     "shell.execute_reply": "2022-09-20T04:15:27.668152Z"
    },
    "papermill": {
     "duration": 0.012018,
     "end_time": "2022-09-20T04:15:27.670862",
     "exception": false,
     "start_time": "2022-09-20T04:15:27.658844",
     "status": "completed"
    },
    "tags": []
   },
   "outputs": [],
   "source": [
    "# fig=plt.figure(figsize=(12, 12))\n",
    "# # plt.subplots(3,3)\n",
    "# for index in df['id'][:1]:\n",
    "#     ds = HuBMAPDataset(index)\n",
    "    \n",
    "    \n",
    "#     for i, a in enumerate(ds):\n",
    "#         print(a[0].shape)\n",
    "# #         fig.add_subplot((i+1)//3+1, i%3+1, (i+1)//3+(i+1)%3)\n",
    "# #         plt.axis('off')\n",
    "# #         if (i+1)//3 == 0:\n",
    "# #             a[0] = a[0][]\n",
    "#         plt.subplots(1)\n",
    "#         plt.imshow(a[0])\n",
    "#         plt.axis('off')\n",
    "#         if i == 3:\n",
    "#             break\n",
    "#         pass\n",
    "# #         print('as')\n",
    "# #     break\n"
   ]
  },
  {
   "cell_type": "code",
   "execution_count": 11,
   "id": "f3215382",
   "metadata": {
    "execution": {
     "iopub.execute_input": "2022-09-20T04:15:27.682516Z",
     "iopub.status.busy": "2022-09-20T04:15:27.681165Z",
     "iopub.status.idle": "2022-09-20T04:15:31.788814Z",
     "shell.execute_reply": "2022-09-20T04:15:31.787643Z"
    },
    "papermill": {
     "duration": 4.116195,
     "end_time": "2022-09-20T04:15:31.791874",
     "exception": false,
     "start_time": "2022-09-20T04:15:27.675679",
     "status": "completed"
    },
    "tags": []
   },
   "outputs": [
    {
     "name": "stdout",
     "output_type": "stream",
     "text": [
      "evaled\n"
     ]
    }
   ],
   "source": [
    "# UNet EFFB7\n",
    "activation = None\n",
    "model = smp.Unet(\n",
    "    encoder_weights=None,\n",
    "    encoder_name='efficientnet-b7',\n",
    "    decoder_channels= (512, 256, 128, 64, 32),\n",
    "    decoder_use_batchnorm=True,\n",
    "    activation=activation,\n",
    "    in_channels=3,\n",
    "    classes=5,\n",
    ")\n",
    "model = model.to(device)\n",
    "model.eval()\n",
    "print('evaled')"
   ]
  },
  {
   "cell_type": "code",
   "execution_count": 12,
   "id": "119804b5",
   "metadata": {
    "execution": {
     "iopub.execute_input": "2022-09-20T04:15:31.804916Z",
     "iopub.status.busy": "2022-09-20T04:15:31.803814Z",
     "iopub.status.idle": "2022-09-20T04:15:31.809125Z",
     "shell.execute_reply": "2022-09-20T04:15:31.808274Z"
    },
    "papermill": {
     "duration": 0.014207,
     "end_time": "2022-09-20T04:15:31.811325",
     "exception": false,
     "start_time": "2022-09-20T04:15:31.797118",
     "status": "completed"
    },
    "tags": []
   },
   "outputs": [],
   "source": [
    "organ_to_class = {\n",
    "    'prostate':0,\n",
    "    'spleen':1,\n",
    "    'lung':2,\n",
    "    'kidney':3,\n",
    "    'largeintestine':4\n",
    "}"
   ]
  },
  {
   "cell_type": "code",
   "execution_count": 13,
   "id": "f07cd721",
   "metadata": {
    "execution": {
     "iopub.execute_input": "2022-09-20T04:15:31.822372Z",
     "iopub.status.busy": "2022-09-20T04:15:31.822097Z",
     "iopub.status.idle": "2022-09-20T04:15:31.825900Z",
     "shell.execute_reply": "2022-09-20T04:15:31.824949Z"
    },
    "papermill": {
     "duration": 0.011804,
     "end_time": "2022-09-20T04:15:31.827986",
     "exception": false,
     "start_time": "2022-09-20T04:15:31.816182",
     "status": "completed"
    },
    "tags": []
   },
   "outputs": [],
   "source": [
    "# for i, images in enumerate(ds):\n",
    "#     print(images[1].shape)\n",
    "    \n",
    "#     if i == len(ds) - 1:\n",
    "#         break"
   ]
  },
  {
   "cell_type": "code",
   "execution_count": 14,
   "id": "fa9f4330",
   "metadata": {
    "execution": {
     "iopub.execute_input": "2022-09-20T04:15:31.839058Z",
     "iopub.status.busy": "2022-09-20T04:15:31.838794Z",
     "iopub.status.idle": "2022-09-20T04:16:01.518179Z",
     "shell.execute_reply": "2022-09-20T04:16:01.516634Z"
    },
    "papermill": {
     "duration": 29.6877,
     "end_time": "2022-09-20T04:16:01.520891",
     "exception": false,
     "start_time": "2022-09-20T04:15:31.833191",
     "status": "completed"
    },
    "tags": []
   },
   "outputs": [
    {
     "name": "stdout",
     "output_type": "stream",
     "text": [
      "fold 0 done\n",
      "fold 1 done\n",
      "fold 2 done\n",
      "fold 3 done\n",
      "fold 4 done\n",
      "29.667675256729126\n"
     ]
    }
   ],
   "source": [
    "l = []\n",
    "\n",
    "\n",
    "t = time.time()\n",
    "for fold in range(5):\n",
    "    model.load_state_dict(torch.load(f'../input/uneteffb7-9tiled-20-17-20-20-17/PostRUNS_fold{fold}.pt'))    \n",
    "    model.eval()\n",
    "    \n",
    "    clear_cache()\n",
    "    l_index = 0\n",
    "\n",
    "    for rn, index in enumerate(df['id']):\n",
    "        ds = HuBMAPDataset(index)\n",
    "#         ds_loader = torch.utils.data.DataLoader(ds, batch_size=4)\n",
    "        try:\n",
    "            for i, images in enumerate(ds):\n",
    "                clear_cache()\n",
    "\n",
    "                with torch.no_grad():\n",
    "                    y_pred = model(images)\n",
    "\n",
    "                y_pred = nn.Sigmoid()(y_pred)[0][organ_to_class[df['organ'][rn]]]\n",
    "\n",
    "    #             y_pred[y_pred < 0.5] = 0\n",
    "    #             y_pred[y_pred > 0.5] = 1\n",
    "    #             y_pred[y_pred == 0.5] = 1\n",
    "    #             plt.subplots()\n",
    "    #             plt.imshow(y_pred.detach().cpu().numpy())\n",
    "    #             print(y_pred.detach().cpu().numpy().max())\n",
    "\n",
    "                if fold == 0:\n",
    "                    l.append(y_pred)\n",
    "                else:\n",
    "                    l[l_index] += y_pred\n",
    "                    l_index += 1\n",
    "\n",
    "\n",
    "                if i == len(ds) - 1:\n",
    "                    break\n",
    "        except:\n",
    "            if fold == 0:\n",
    "                l.append(np.zeros((512,512)))\n",
    "            else:\n",
    "                l[l_index] += y_pred\n",
    "                l_index += 1\n",
    "\n",
    "    print(f'fold {fold} done')\n",
    "\n",
    "    \n",
    "# Convert the data into 1/0\n",
    "for a in range(len(l)):\n",
    "    l[a] = l[a].detach().cpu().numpy()\n",
    "\n",
    "l = np.array(l) / 5\n",
    "\n",
    "l[l > 0.5] = 1\n",
    "l[l == 0.5] = 1\n",
    "l[l < 0.5] = 0\n",
    "\n",
    "# So by now you can just re-convert to images!\n",
    "\n",
    "\n",
    "print(time.time() - t)"
   ]
  },
  {
   "cell_type": "code",
   "execution_count": 15,
   "id": "1085cf95",
   "metadata": {
    "execution": {
     "iopub.execute_input": "2022-09-20T04:16:01.534464Z",
     "iopub.status.busy": "2022-09-20T04:16:01.533022Z",
     "iopub.status.idle": "2022-09-20T04:16:01.676602Z",
     "shell.execute_reply": "2022-09-20T04:16:01.675590Z"
    },
    "papermill": {
     "duration": 0.152328,
     "end_time": "2022-09-20T04:16:01.679226",
     "exception": false,
     "start_time": "2022-09-20T04:16:01.526898",
     "status": "completed"
    },
    "tags": []
   },
   "outputs": [],
   "source": [
    "submission = pd.DataFrame(columns=['id', 'rle'])\n",
    "\n",
    "for rn, row in enumerate(df.iloc):\n",
    "    ds = HuBMAPDataset(int(row['id']))\n",
    "    start_ind = 0\n",
    "    \n",
    "    tile_size = 512\n",
    "    \n",
    "    arr = np.zeros((tile_size*ds.n0max, tile_size*ds.n0max))\n",
    "    \n",
    "    try:\n",
    "        for i in range(ds.n0max):\n",
    "            for j in range(ds.n1max):\n",
    "                arr[i*tile_size:(i+1)*tile_size, j*tile_size:(j+1)*tile_size] = l[start_ind]\n",
    "                start_ind += 1\n",
    "        arr = cv2.resize(arr, (int(row['img_width']), int(row['img_height'])))\n",
    "\n",
    "        arr[arr < 0.5] = 0\n",
    "        arr[arr > 0.5] = 1\n",
    "        arr[arr == 0.5] = 1\n",
    "    except:\n",
    "        pass\n",
    "    \n",
    "    rle = rle_encode(arr)\n",
    "    submission.loc[len(submission)] = [int(row['id']), rle]\n",
    "    \n",
    "#     arr = arr[ds.pad0:arr.shape[0]-ds.pad0, ds.pad1:arr.shape[1]-ds.pad1]"
   ]
  },
  {
   "cell_type": "code",
   "execution_count": 16,
   "id": "18a4cdd6",
   "metadata": {
    "execution": {
     "iopub.execute_input": "2022-09-20T04:16:01.691787Z",
     "iopub.status.busy": "2022-09-20T04:16:01.690945Z",
     "iopub.status.idle": "2022-09-20T04:16:01.695527Z",
     "shell.execute_reply": "2022-09-20T04:16:01.694555Z"
    },
    "papermill": {
     "duration": 0.012958,
     "end_time": "2022-09-20T04:16:01.697712",
     "exception": false,
     "start_time": "2022-09-20T04:16:01.684754",
     "status": "completed"
    },
    "tags": []
   },
   "outputs": [],
   "source": [
    "# plt.imshow(enc2mask(df[ind:ind+1]['rle'], shape=(3000,3000)))"
   ]
  },
  {
   "cell_type": "code",
   "execution_count": 17,
   "id": "67dc4122",
   "metadata": {
    "execution": {
     "iopub.execute_input": "2022-09-20T04:16:01.709036Z",
     "iopub.status.busy": "2022-09-20T04:16:01.708762Z",
     "iopub.status.idle": "2022-09-20T04:16:01.721639Z",
     "shell.execute_reply": "2022-09-20T04:16:01.720597Z"
    },
    "papermill": {
     "duration": 0.02101,
     "end_time": "2022-09-20T04:16:01.723830",
     "exception": false,
     "start_time": "2022-09-20T04:16:01.702820",
     "status": "completed"
    },
    "tags": []
   },
   "outputs": [
    {
     "data": {
      "text/html": [
       "<div>\n",
       "<style scoped>\n",
       "    .dataframe tbody tr th:only-of-type {\n",
       "        vertical-align: middle;\n",
       "    }\n",
       "\n",
       "    .dataframe tbody tr th {\n",
       "        vertical-align: top;\n",
       "    }\n",
       "\n",
       "    .dataframe thead th {\n",
       "        text-align: right;\n",
       "    }\n",
       "</style>\n",
       "<table border=\"1\" class=\"dataframe\">\n",
       "  <thead>\n",
       "    <tr style=\"text-align: right;\">\n",
       "      <th></th>\n",
       "      <th>id</th>\n",
       "      <th>organ</th>\n",
       "      <th>data_source</th>\n",
       "      <th>img_height</th>\n",
       "      <th>img_width</th>\n",
       "      <th>pixel_size</th>\n",
       "      <th>tissue_thickness</th>\n",
       "      <th>path</th>\n",
       "      <th>classes</th>\n",
       "    </tr>\n",
       "  </thead>\n",
       "  <tbody>\n",
       "    <tr>\n",
       "      <th>0</th>\n",
       "      <td>10078</td>\n",
       "      <td>spleen</td>\n",
       "      <td>Hubmap</td>\n",
       "      <td>2023</td>\n",
       "      <td>2023</td>\n",
       "      <td>0.4945</td>\n",
       "      <td>4</td>\n",
       "      <td>../input/hubmap-organ-segmentation/test_images...</td>\n",
       "      <td>1</td>\n",
       "    </tr>\n",
       "  </tbody>\n",
       "</table>\n",
       "</div>"
      ],
      "text/plain": [
       "      id   organ data_source  img_height  img_width  pixel_size  \\\n",
       "0  10078  spleen      Hubmap        2023       2023      0.4945   \n",
       "\n",
       "   tissue_thickness                                               path  \\\n",
       "0                 4  ../input/hubmap-organ-segmentation/test_images...   \n",
       "\n",
       "   classes  \n",
       "0        1  "
      ]
     },
     "execution_count": 17,
     "metadata": {},
     "output_type": "execute_result"
    }
   ],
   "source": [
    "df"
   ]
  },
  {
   "cell_type": "code",
   "execution_count": 18,
   "id": "543431f6",
   "metadata": {
    "execution": {
     "iopub.execute_input": "2022-09-20T04:16:01.736574Z",
     "iopub.status.busy": "2022-09-20T04:16:01.736258Z",
     "iopub.status.idle": "2022-09-20T04:16:01.749469Z",
     "shell.execute_reply": "2022-09-20T04:16:01.748635Z"
    },
    "papermill": {
     "duration": 0.021636,
     "end_time": "2022-09-20T04:16:01.751533",
     "exception": false,
     "start_time": "2022-09-20T04:16:01.729897",
     "status": "completed"
    },
    "tags": []
   },
   "outputs": [],
   "source": [
    "submission.to_csv('submission.csv', index=False)"
   ]
  }
 ],
 "metadata": {
  "kernelspec": {
   "display_name": "Python 3",
   "language": "python",
   "name": "python3"
  },
  "language_info": {
   "codemirror_mode": {
    "name": "ipython",
    "version": 3
   },
   "file_extension": ".py",
   "mimetype": "text/x-python",
   "name": "python",
   "nbconvert_exporter": "python",
   "pygments_lexer": "ipython3",
   "version": "3.7.12"
  },
  "papermill": {
   "default_parameters": {},
   "duration": 206.379365,
   "end_time": "2022-09-20T04:16:04.430196",
   "environment_variables": {},
   "exception": null,
   "input_path": "__notebook__.ipynb",
   "output_path": "__notebook__.ipynb",
   "parameters": {},
   "start_time": "2022-09-20T04:12:38.050831",
   "version": "2.3.4"
  }
 },
 "nbformat": 4,
 "nbformat_minor": 5
}
